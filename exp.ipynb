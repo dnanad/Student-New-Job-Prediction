{
 "cells": [
  {
   "cell_type": "code",
   "execution_count": 4,
   "metadata": {},
   "outputs": [],
   "source": [
    "import toml\n",
    "output_file = \".streamlit/secrets.toml\""
   ]
  },
  {
   "cell_type": "code",
   "execution_count": 5,
   "metadata": {},
   "outputs": [],
   "source": [
    "with open(\"students-job-prediction.json\") as json_file:\n",
    "    json_text = json_file.read()"
   ]
  },
  {
   "cell_type": "code",
   "execution_count": 7,
   "metadata": {},
   "outputs": [],
   "source": [
    "config = {\"textkey\": json_text}\n",
    "toml_config = toml.dumps(config)\n",
    "with open(output_file, \"w\") as target:\n",
    "    target.write(toml_config)\n"
   ]
  },
  {
   "cell_type": "code",
   "execution_count": null,
   "metadata": {},
   "outputs": [],
   "source": []
  }
 ],
 "metadata": {
  "kernelspec": {
   "display_name": "Python 3.11.0 ('Student-New-Job-Prediction-XmX1Q9-B')",
   "language": "python",
   "name": "python3"
  },
  "language_info": {
   "codemirror_mode": {
    "name": "ipython",
    "version": 3
   },
   "file_extension": ".py",
   "mimetype": "text/x-python",
   "name": "python",
   "nbconvert_exporter": "python",
   "pygments_lexer": "ipython3",
   "version": "3.11.0"
  },
  "orig_nbformat": 4,
  "vscode": {
   "interpreter": {
    "hash": "944840104e76008806025ce6ccda8d1f3683b4529829fe2c793081d503f3b1d4"
   }
  }
 },
 "nbformat": 4,
 "nbformat_minor": 2
}
